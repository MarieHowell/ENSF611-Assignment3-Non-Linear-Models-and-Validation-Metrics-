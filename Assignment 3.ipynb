{
 "cells": [
  {
   "cell_type": "markdown",
   "id": "92778525",
   "metadata": {},
   "source": [
    "# Assignment 3: Non-Linear Models and Validation Metrics (37 total marks)\n",
    "### Due: October 24 at 11:59pm\n",
    "\n",
    "### Name: Marie Howell"
   ]
  },
  {
   "cell_type": "markdown",
   "id": "ce31b39a",
   "metadata": {},
   "source": [
    "### In this assignment, you will need to write code that uses non-linear models to perform classification and regression tasks. You will also be asked to describe the process by which you came up with the code. More details can be found below. Please cite any websites or AI tools that you used to help you with this assignment."
   ]
  },
  {
   "cell_type": "markdown",
   "id": "cf275ca7",
   "metadata": {},
   "source": [
    "### Import Libraries"
   ]
  },
  {
   "cell_type": "code",
   "execution_count": 38,
   "id": "2b67a661",
   "metadata": {},
   "outputs": [],
   "source": [
    "import numpy as np\n",
    "import pandas as pd\n",
    "import matplotlib.pyplot as plt\n",
    "import seaborn as sns"
   ]
  },
  {
   "cell_type": "markdown",
   "id": "5ee2d2c3",
   "metadata": {},
   "source": [
    "## Part 1: Regression (14.5 marks)\n",
    "\n",
    "For this section, we will be continuing with the concrete example from yellowbrick. You will need to compare these results to the results from the previous assignment. Please use the results from the solution if you were unable to complete Assignment 2"
   ]
  },
  {
   "cell_type": "markdown",
   "id": "8219f163",
   "metadata": {},
   "source": [
    "### Step 1: Data Input (0.5 marks)\n",
    "\n",
    "The data used for this task can be downloaded using the yellowbrick library: \n",
    "https://www.scikit-yb.org/en/latest/api/datasets/concrete.html\n",
    "\n",
    "Use the yellowbrick function `load_concrete()` to load the concrete dataset into the feature matrix `X` and target vector `y`."
   ]
  },
  {
   "cell_type": "code",
   "execution_count": 39,
   "id": "2af8bd32",
   "metadata": {},
   "outputs": [
    {
     "name": "stdout",
     "output_type": "stream",
     "text": [
      "(1030, 8)\n",
      "(1030,)\n"
     ]
    }
   ],
   "source": [
    "# TO DO: Import concrete dataset from yellowbrick library\n",
    "from yellowbrick.datasets import load_concrete\n",
    "\n",
    "X, y = load_concrete()\n",
    "\n",
    "print(X.shape)\n",
    "print(y.shape)"
   ]
  },
  {
   "cell_type": "markdown",
   "id": "42fea4cc",
   "metadata": {},
   "source": [
    "### Step 2: Data Processing (0 marks)\n",
    "\n",
    "Data processing was completed in the previous assignment. No need to repeat here."
   ]
  },
  {
   "cell_type": "markdown",
   "id": "2a245d00",
   "metadata": {},
   "source": [
    "### Step 3: Implement Machine Learning Model\n",
    "\n",
    "1. Import the Decision Tree, Random Forest and Gradient Boosting Machines regression models from sklearn\n",
    "2. Instantiate the three models with `max_depth = 5`. Are there any other parameters that you will need to set?\n",
    "3. Implement each machine learning model with `X` and `y`"
   ]
  },
  {
   "cell_type": "markdown",
   "id": "3f994e31",
   "metadata": {},
   "source": [
    "### Step 4: Validate Model\n",
    "\n",
    "Calculate the average training and validation accuracy using mean squared error with cross-validation. To do this, you will need to set `scoring='neg_mean_squared_error'` in your `cross_validate` function and negate the results (multiply by -1)"
   ]
  },
  {
   "cell_type": "markdown",
   "id": "5fc3f7a8",
   "metadata": {},
   "source": [
    "### Step 5: Visualize Results (4 marks)\n",
    "\n",
    "1. Create a pandas DataFrame `results` with columns: Training accuracy and Validation accuracy, and index: DT, RF and GB\n",
    "2. Add the accuracy results to the `results` DataFrame\n",
    "3. Print `results`"
   ]
  },
  {
   "cell_type": "code",
   "execution_count": 40,
   "id": "fdc93a78",
   "metadata": {},
   "outputs": [
    {
     "data": {
      "text/html": [
       "<div>\n",
       "<style scoped>\n",
       "    .dataframe tbody tr th:only-of-type {\n",
       "        vertical-align: middle;\n",
       "    }\n",
       "\n",
       "    .dataframe tbody tr th {\n",
       "        vertical-align: top;\n",
       "    }\n",
       "\n",
       "    .dataframe thead th {\n",
       "        text-align: right;\n",
       "    }\n",
       "</style>\n",
       "<table border=\"1\" class=\"dataframe\">\n",
       "  <thead>\n",
       "    <tr style=\"text-align: right;\">\n",
       "      <th></th>\n",
       "      <th>Training accuracy</th>\n",
       "      <th>Validation accuracy</th>\n",
       "    </tr>\n",
       "  </thead>\n",
       "  <tbody>\n",
       "    <tr>\n",
       "      <th>DT</th>\n",
       "      <td>47.279761</td>\n",
       "      <td>72.675251</td>\n",
       "    </tr>\n",
       "    <tr>\n",
       "      <th>RF</th>\n",
       "      <td>29.577455</td>\n",
       "      <td>45.059351</td>\n",
       "    </tr>\n",
       "    <tr>\n",
       "      <th>GB</th>\n",
       "      <td>3.379440</td>\n",
       "      <td>22.783221</td>\n",
       "    </tr>\n",
       "  </tbody>\n",
       "</table>\n",
       "</div>"
      ],
      "text/plain": [
       "    Training accuracy  Validation accuracy\n",
       "DT          47.279761            72.675251\n",
       "RF          29.577455            45.059351\n",
       "GB           3.379440            22.783221"
      ]
     },
     "execution_count": 40,
     "metadata": {},
     "output_type": "execute_result"
    }
   ],
   "source": [
    "# TO DO: ADD YOUR CODE HERE FOR STEPS 3-5\n",
    "# Note: for any random state parameters, you can use random_state = 0\n",
    "# HINT: USING A LOOP TO STORE THE DATA IN YOUR RESULTS DATAFRAME WILL BE MORE EFFICIENT\n",
    "from sklearn.model_selection import train_test_split\n",
    "from sklearn.tree import DecisionTreeRegressor\n",
    "from sklearn.ensemble import RandomForestRegressor, GradientBoostingRegressor\n",
    "from sklearn.model_selection import cross_validate\n",
    "\n",
    "# Step 3: Implementing the nachine learning model\n",
    "X_train, X_test, y_train, y_test = train_test_split(X, y, random_state=0)\n",
    "# creating the three regression models \n",
    "# other hyperparameters that need to be set are n_estimators,  max_features, and min_sample_leaf for random forests. \n",
    "# n_estimators generally larger the better\n",
    "# for regression max_features = num of features = 8\n",
    "# other hyperparameters for gradient boosting n_estimators and learning_rate\n",
    "tree = DecisionTreeRegressor(max_depth=5).fit(X_train, y_train)\n",
    "forest = RandomForestRegressor(max_depth=5, n_estimators=100, random_state=0).fit(X_train, y_train)\n",
    "gradiant = GradientBoostingRegressor(max_depth=5, n_estimators=100, learning_rate=0.1, random_state=0).fit(X_train, y_train)\n",
    "\n",
    "#Step 4: Validate Model\n",
    "# for decison tree\n",
    "tree_scores= cross_validate(tree, X_train, y_train, scoring='neg_mean_squared_error', return_train_score=True)\n",
    "mean_tree_train_scores = -tree_scores['train_score'].mean()\n",
    "mean_tree_val_scores = -tree_scores['test_score'].mean()\n",
    "\n",
    "# for random forest \n",
    "forest_scores= cross_validate(forest, X_train, y_train, scoring='neg_mean_squared_error', return_train_score=True)\n",
    "mean_forest_train_scores = -forest_scores['train_score'].mean()\n",
    "mean_forest_val_scores = -forest_scores['test_score'].mean()\n",
    "# for gradiant boosting\n",
    "gradiant_scores= cross_validate(gradiant, X_train, y_train, scoring='neg_mean_squared_error', return_train_score=True)\n",
    "mean_gradiant_train_scores = -gradiant_scores['train_score'].mean()\n",
    "mean_gradiant_val_scores = -gradiant_scores['test_score'].mean()\n",
    "\n",
    "#Step 5: Visualizing results \n",
    "train_scores = [mean_tree_train_scores, mean_forest_train_scores, mean_gradiant_train_scores]\n",
    "val_scores = [mean_tree_val_scores, mean_forest_val_scores,mean_gradiant_val_scores ]\n",
    "results = pd.DataFrame(columns=[\"Training accuracy\", \"Validation accuracy\"], index=['DT', 'RF', 'GB'])\n",
    "results[\"Training accuracy\"] = train_scores\n",
    "results['Validation accuracy'] = val_scores\n",
    "results\n"
   ]
  },
  {
   "cell_type": "markdown",
   "id": "31715a9d",
   "metadata": {},
   "source": [
    "Repeat the step above to print the R2 score instead of the mean-squared error. For this case, you can use `scoring='r2'`"
   ]
  },
  {
   "cell_type": "code",
   "execution_count": 41,
   "id": "83539f47",
   "metadata": {},
   "outputs": [
    {
     "data": {
      "text/html": [
       "<div>\n",
       "<style scoped>\n",
       "    .dataframe tbody tr th:only-of-type {\n",
       "        vertical-align: middle;\n",
       "    }\n",
       "\n",
       "    .dataframe tbody tr th {\n",
       "        vertical-align: top;\n",
       "    }\n",
       "\n",
       "    .dataframe thead th {\n",
       "        text-align: right;\n",
       "    }\n",
       "</style>\n",
       "<table border=\"1\" class=\"dataframe\">\n",
       "  <thead>\n",
       "    <tr style=\"text-align: right;\">\n",
       "      <th></th>\n",
       "      <th>Training accuracy</th>\n",
       "      <th>Validation accuracy</th>\n",
       "    </tr>\n",
       "  </thead>\n",
       "  <tbody>\n",
       "    <tr>\n",
       "      <th>DT</th>\n",
       "      <td>0.834465</td>\n",
       "      <td>0.748887</td>\n",
       "    </tr>\n",
       "    <tr>\n",
       "      <th>RF</th>\n",
       "      <td>0.896557</td>\n",
       "      <td>0.840927</td>\n",
       "    </tr>\n",
       "    <tr>\n",
       "      <th>GB</th>\n",
       "      <td>0.988171</td>\n",
       "      <td>0.919471</td>\n",
       "    </tr>\n",
       "  </tbody>\n",
       "</table>\n",
       "</div>"
      ],
      "text/plain": [
       "    Training accuracy  Validation accuracy\n",
       "DT           0.834465             0.748887\n",
       "RF           0.896557             0.840927\n",
       "GB           0.988171             0.919471"
      ]
     },
     "execution_count": 41,
     "metadata": {},
     "output_type": "execute_result"
    }
   ],
   "source": [
    "#Step 4: Validate Model\n",
    "tree_scores= cross_validate(tree, X_train, y_train, scoring='r2', return_train_score=True)\n",
    "mean_tree_train_scores = tree_scores['train_score'].mean()\n",
    "mean_tree_val_scores = tree_scores['test_score'].mean()\n",
    "\n",
    "# for random forest \n",
    "forest_scores= cross_validate(forest, X_train, y_train, scoring='r2', return_train_score=True)\n",
    "mean_forest_train_scores = forest_scores['train_score'].mean()\n",
    "mean_forest_val_scores = forest_scores['test_score'].mean()\n",
    "# for gradiant boosting\n",
    "gradiant_scores= cross_validate(gradiant, X_train, y_train, scoring='r2', return_train_score=True)\n",
    "mean_gradiant_train_scores = gradiant_scores['train_score'].mean()\n",
    "mean_gradiant_val_scores = gradiant_scores['test_score'].mean()\n",
    "\n",
    "#Step 5: Visualizing results \n",
    "train_scores = [mean_tree_train_scores, mean_forest_train_scores, mean_gradiant_train_scores]\n",
    "val_scores = [mean_tree_val_scores, mean_forest_val_scores,mean_gradiant_val_scores ]\n",
    "\n",
    "results = pd.DataFrame(columns=[\"Training accuracy\", \"Validation accuracy\"], index=['DT', 'RF', 'GB'])\n",
    "results[\"Training accuracy\"] = train_scores\n",
    "results['Validation accuracy'] = val_scores\n",
    "results"
   ]
  },
  {
   "cell_type": "markdown",
   "id": "a5257a98",
   "metadata": {},
   "source": [
    "### Questions (6 marks)\n",
    "1. How do these results compare to the results using a linear model in the previous assignment? Use values.\n",
    "2. Out of the models you tested, which model would you select for this dataset and why?\n",
    "3. If you wanted to increase the accuracy of the tree-based models, what would you do? Provide two suggestions.\n",
    "\n",
    "Question 1: \n",
    "  \n",
    "The results for the R2 values from the linear model in assignment 2 are 0.61 and 0.2 for training accuracy and validation accuracy respectively. The resulting mean squared error values are 111.4 MPa and 95.9MPa for training and validation respectively. These results showed us that the linear model had high bias and was underfitting the data meaning that a more complex model is required to properly fit the data set. When comparing these results with the results for the non-linear models we can see that all three non-linear models produce significantly better results. The MSE values have been reduced significantly which demonstrates a reduction in errors and the R2 values are closer to 1 which shows that these new models are more complex and fit the data better. \n",
    "\n",
    "Question 2: \n",
    "\n",
    "Based on the results I would select the gradient boosting model because the training accuracy and validation accuracy are the closest to one and the error values are the smallest which indicates that it is the best fitting model. \n",
    "\n",
    "Question 3: \n",
    "\n",
    "Increasing the max_depth for all the models may result in increased accuracy scores. Increasing max_depth allows for more complexity which especially for the decision tree model and the random forest model which have lower accuracy scores. Increasing the max_depth can lead to over fitting so it should be done with caution. Setting the min_samples_leaf value is also a possibility; this determines the minimum number if samples required to split a node.  For gradient boosting and random forests, the n_estimators could be changed to find the optimal value, increasing n_estimators will increase the number of the trees created and create a more robust ensemble. Along with the mentioned parameters there is also other pre-pruning techniques that can be useful for tuning these models.   \n",
    "\n"
   ]
  },
  {
   "cell_type": "markdown",
   "id": "37b238f4",
   "metadata": {},
   "source": [
    "### Process Description (4 marks)\n",
    "Please describe the process you used to create your code. Cite any websites or generative AI tools used. You can use the following questions as guidance:\n",
    "1. Where did you source your code?\n",
    "1. In what order did you complete the steps?\n",
    "1. If you used generative AI, what prompts did you use? Did you need to modify the code at all? Why or why not?\n",
    "1. Did you have any challenges? If yes, what were they? If not, what helped you to be successful?\n",
    "\n",
    "I based my code off the lecture examples and the lab content. For concepts that I needed clarification on I either googled them or used Chat GPT. I only use Chat GPT to either confirm something I am relatively certain of or to get a quick explanation of standard concepts. If it gives me unexpected answers I refer back to other sources (usually class notes for further clarification) I also use it for stuff like explain the difference between precision and recall, something that I'm familiar with but do not have memorized. I got stuck in a few spots where I realized I didn't fully understand the concept nut when that happens, I go back and re-read that section in the lecture notes and that usually provides enough clarity to continue."
   ]
  },
  {
   "cell_type": "markdown",
   "id": "93097bfe",
   "metadata": {},
   "source": [
    "*DESCRIBE YOUR PROCESS HERE*"
   ]
  },
  {
   "cell_type": "markdown",
   "id": "f7c6de86",
   "metadata": {},
   "source": [
    "## Part 2: Classification (17.5 marks)\n",
    "\n",
    "You have been asked to develop code that can help the user classify different wine samples. Following the machine learning workflow described in class, write the relevant code in each of the steps below:"
   ]
  },
  {
   "cell_type": "markdown",
   "id": "5f9d33a8",
   "metadata": {},
   "source": [
    "### Step 1: Data Input (2 marks)\n",
    "\n",
    "The data used for this task can be downloaded from UCI: https://archive.ics.uci.edu/dataset/109/wine\n",
    "\n",
    "Use the pandas library to load the dataset. You must define the column headers if they are not included in the dataset \n",
    "\n",
    "You will need to split the dataset into feature matrix `X` and target vector `y`. Which column represents the target vector?\n",
    "\n",
    "Print the size and type of `X` and `y`"
   ]
  },
  {
   "cell_type": "code",
   "execution_count": 42,
   "id": "33583c67",
   "metadata": {},
   "outputs": [],
   "source": [
    "# Loading wine data\n",
    "url = \"https://archive.ics.uci.edu/ml/machine-learning-databases/wine/wine.data\"\n",
    " \n",
    "column_headers = [\n",
    "    \"Class\",\n",
    "    \"Alcohol\",\n",
    "    \"Malic Acid\",\n",
    "    \"Ash\",\n",
    "    \"Alcalinity of Ash\",\n",
    "    \"Magnesium\",\n",
    "    \"Total Phenols\",\n",
    "    \"Flavanoids\",\n",
    "    \"Nonflavanoid Phenols\",\n",
    "    \"Proanthocyanins\",\n",
    "    \"Color Intensity\",\n",
    "    \"Hue\",\n",
    "    \"OD280/OD315 of diluted wines\",\n",
    "    \"Proline\"\n",
    "]\n",
    "\n",
    "wine_data = pd.read_csv(url, names=column_headers)\n",
    "\n",
    "# the Class column will be the target vector since we are using a classification model\n",
    "# creating feature matrix and traget vector \n",
    "X = wine_data.drop('Class', axis=1)\n",
    "y = wine_data['Class']\n"
   ]
  },
  {
   "cell_type": "markdown",
   "id": "156db208",
   "metadata": {},
   "source": [
    "### Step 2: Data Processing (1.5 marks)"
   ]
  },
  {
   "cell_type": "markdown",
   "id": "a28af110",
   "metadata": {},
   "source": [
    "Print the first five rows of the dataset to inspect:"
   ]
  },
  {
   "cell_type": "code",
   "execution_count": 43,
   "id": "ea266921",
   "metadata": {},
   "outputs": [
    {
     "data": {
      "text/html": [
       "<div>\n",
       "<style scoped>\n",
       "    .dataframe tbody tr th:only-of-type {\n",
       "        vertical-align: middle;\n",
       "    }\n",
       "\n",
       "    .dataframe tbody tr th {\n",
       "        vertical-align: top;\n",
       "    }\n",
       "\n",
       "    .dataframe thead th {\n",
       "        text-align: right;\n",
       "    }\n",
       "</style>\n",
       "<table border=\"1\" class=\"dataframe\">\n",
       "  <thead>\n",
       "    <tr style=\"text-align: right;\">\n",
       "      <th></th>\n",
       "      <th>Alcohol</th>\n",
       "      <th>Malic Acid</th>\n",
       "      <th>Ash</th>\n",
       "      <th>Alcalinity of Ash</th>\n",
       "      <th>Magnesium</th>\n",
       "      <th>Total Phenols</th>\n",
       "      <th>Flavanoids</th>\n",
       "      <th>Nonflavanoid Phenols</th>\n",
       "      <th>Proanthocyanins</th>\n",
       "      <th>Color Intensity</th>\n",
       "      <th>Hue</th>\n",
       "      <th>OD280/OD315 of diluted wines</th>\n",
       "      <th>Proline</th>\n",
       "    </tr>\n",
       "  </thead>\n",
       "  <tbody>\n",
       "    <tr>\n",
       "      <th>0</th>\n",
       "      <td>14.23</td>\n",
       "      <td>1.71</td>\n",
       "      <td>2.43</td>\n",
       "      <td>15.6</td>\n",
       "      <td>127</td>\n",
       "      <td>2.80</td>\n",
       "      <td>3.06</td>\n",
       "      <td>0.28</td>\n",
       "      <td>2.29</td>\n",
       "      <td>5.64</td>\n",
       "      <td>1.04</td>\n",
       "      <td>3.92</td>\n",
       "      <td>1065</td>\n",
       "    </tr>\n",
       "    <tr>\n",
       "      <th>1</th>\n",
       "      <td>13.20</td>\n",
       "      <td>1.78</td>\n",
       "      <td>2.14</td>\n",
       "      <td>11.2</td>\n",
       "      <td>100</td>\n",
       "      <td>2.65</td>\n",
       "      <td>2.76</td>\n",
       "      <td>0.26</td>\n",
       "      <td>1.28</td>\n",
       "      <td>4.38</td>\n",
       "      <td>1.05</td>\n",
       "      <td>3.40</td>\n",
       "      <td>1050</td>\n",
       "    </tr>\n",
       "    <tr>\n",
       "      <th>2</th>\n",
       "      <td>13.16</td>\n",
       "      <td>2.36</td>\n",
       "      <td>2.67</td>\n",
       "      <td>18.6</td>\n",
       "      <td>101</td>\n",
       "      <td>2.80</td>\n",
       "      <td>3.24</td>\n",
       "      <td>0.30</td>\n",
       "      <td>2.81</td>\n",
       "      <td>5.68</td>\n",
       "      <td>1.03</td>\n",
       "      <td>3.17</td>\n",
       "      <td>1185</td>\n",
       "    </tr>\n",
       "    <tr>\n",
       "      <th>3</th>\n",
       "      <td>14.37</td>\n",
       "      <td>1.95</td>\n",
       "      <td>2.50</td>\n",
       "      <td>16.8</td>\n",
       "      <td>113</td>\n",
       "      <td>3.85</td>\n",
       "      <td>3.49</td>\n",
       "      <td>0.24</td>\n",
       "      <td>2.18</td>\n",
       "      <td>7.80</td>\n",
       "      <td>0.86</td>\n",
       "      <td>3.45</td>\n",
       "      <td>1480</td>\n",
       "    </tr>\n",
       "    <tr>\n",
       "      <th>4</th>\n",
       "      <td>13.24</td>\n",
       "      <td>2.59</td>\n",
       "      <td>2.87</td>\n",
       "      <td>21.0</td>\n",
       "      <td>118</td>\n",
       "      <td>2.80</td>\n",
       "      <td>2.69</td>\n",
       "      <td>0.39</td>\n",
       "      <td>1.82</td>\n",
       "      <td>4.32</td>\n",
       "      <td>1.04</td>\n",
       "      <td>2.93</td>\n",
       "      <td>735</td>\n",
       "    </tr>\n",
       "  </tbody>\n",
       "</table>\n",
       "</div>"
      ],
      "text/plain": [
       "   Alcohol  Malic Acid   Ash  Alcalinity of Ash  Magnesium  Total Phenols  \\\n",
       "0    14.23        1.71  2.43               15.6        127           2.80   \n",
       "1    13.20        1.78  2.14               11.2        100           2.65   \n",
       "2    13.16        2.36  2.67               18.6        101           2.80   \n",
       "3    14.37        1.95  2.50               16.8        113           3.85   \n",
       "4    13.24        2.59  2.87               21.0        118           2.80   \n",
       "\n",
       "   Flavanoids  Nonflavanoid Phenols  Proanthocyanins  Color Intensity   Hue  \\\n",
       "0        3.06                  0.28             2.29             5.64  1.04   \n",
       "1        2.76                  0.26             1.28             4.38  1.05   \n",
       "2        3.24                  0.30             2.81             5.68  1.03   \n",
       "3        3.49                  0.24             2.18             7.80  0.86   \n",
       "4        2.69                  0.39             1.82             4.32  1.04   \n",
       "\n",
       "   OD280/OD315 of diluted wines  Proline  \n",
       "0                          3.92     1065  \n",
       "1                          3.40     1050  \n",
       "2                          3.17     1185  \n",
       "3                          3.45     1480  \n",
       "4                          2.93      735  "
      ]
     },
     "execution_count": 43,
     "metadata": {},
     "output_type": "execute_result"
    }
   ],
   "source": [
    "# TO DO: ADD YOUR CODE HERE\n",
    "X.head()"
   ]
  },
  {
   "cell_type": "markdown",
   "id": "834fc8fe",
   "metadata": {},
   "source": [
    "Check to see if there are any missing values in the dataset. If necessary, select an appropriate method to fill-in the missing values"
   ]
  },
  {
   "cell_type": "code",
   "execution_count": 44,
   "id": "97c6e9dc",
   "metadata": {},
   "outputs": [
    {
     "data": {
      "text/plain": [
       "Alcohol                         0\n",
       "Malic Acid                      0\n",
       "Ash                             0\n",
       "Alcalinity of Ash               0\n",
       "Magnesium                       0\n",
       "Total Phenols                   0\n",
       "Flavanoids                      0\n",
       "Nonflavanoid Phenols            0\n",
       "Proanthocyanins                 0\n",
       "Color Intensity                 0\n",
       "Hue                             0\n",
       "OD280/OD315 of diluted wines    0\n",
       "Proline                         0\n",
       "dtype: int64"
      ]
     },
     "execution_count": 44,
     "metadata": {},
     "output_type": "execute_result"
    }
   ],
   "source": [
    "# there are no missing values no need to fill\n",
    "X.isnull().sum()\n"
   ]
  },
  {
   "cell_type": "markdown",
   "id": "070956af",
   "metadata": {},
   "source": [
    "How many samples do we have of each type of wine?"
   ]
  },
  {
   "cell_type": "code",
   "execution_count": 45,
   "id": "b37a6fd9",
   "metadata": {},
   "outputs": [
    {
     "name": "stdout",
     "output_type": "stream",
     "text": [
      "There are 178 samples in the wine data set.\n"
     ]
    }
   ],
   "source": [
    "# TO DO: ADD YOUR CODE HERE\n",
    "print(\"There are \" + str(X.shape[0]) + \" samples in the wine data set.\")\n"
   ]
  },
  {
   "cell_type": "markdown",
   "id": "70e6c46f",
   "metadata": {},
   "source": [
    "### Step 3: Implement Machine Learning Model\n",
    "\n",
    "1. Import `SVC` and `DecisionTreeClassifier` from sklearn\n",
    "2. Instantiate models as `SVC()` and `DecisionTreeClassifier(max_depth = 3)`\n",
    "3. Implement the machine learning model with `X` and `y`"
   ]
  },
  {
   "cell_type": "markdown",
   "id": "0870b0d2",
   "metadata": {},
   "source": [
    "### Step 4: Validate Model \n",
    "\n",
    "Calculate the average training and validation accuracy using `cross_validate` for the two different models listed in Step 3. For this case, use `scoring='accuracy'`"
   ]
  },
  {
   "cell_type": "markdown",
   "id": "bb0bbd83",
   "metadata": {},
   "source": [
    "### Step 5: Visualize Results (4 marks)\n",
    "\n",
    "#### Step 5.1: Compare Models\n",
    "1. Create a pandas DataFrame `results` with columns: Training accuracy and Validation accuracy\n",
    "2. Add the data size, training and validation accuracy for each dataset to the `results` DataFrame\n",
    "3. Print `results`"
   ]
  },
  {
   "cell_type": "code",
   "execution_count": 46,
   "id": "be4b5c0a",
   "metadata": {},
   "outputs": [
    {
     "data": {
      "text/html": [
       "<div>\n",
       "<style scoped>\n",
       "    .dataframe tbody tr th:only-of-type {\n",
       "        vertical-align: middle;\n",
       "    }\n",
       "\n",
       "    .dataframe tbody tr th {\n",
       "        vertical-align: top;\n",
       "    }\n",
       "\n",
       "    .dataframe thead th {\n",
       "        text-align: right;\n",
       "    }\n",
       "</style>\n",
       "<table border=\"1\" class=\"dataframe\">\n",
       "  <thead>\n",
       "    <tr style=\"text-align: right;\">\n",
       "      <th></th>\n",
       "      <th>Training accuracy</th>\n",
       "      <th>Validation accuracy</th>\n",
       "    </tr>\n",
       "  </thead>\n",
       "  <tbody>\n",
       "    <tr>\n",
       "      <th>Tree</th>\n",
       "      <td>0.994357</td>\n",
       "      <td>0.894017</td>\n",
       "    </tr>\n",
       "    <tr>\n",
       "      <th>SVC</th>\n",
       "      <td>0.680427</td>\n",
       "      <td>0.676638</td>\n",
       "    </tr>\n",
       "  </tbody>\n",
       "</table>\n",
       "</div>"
      ],
      "text/plain": [
       "      Training accuracy  Validation accuracy\n",
       "Tree           0.994357             0.894017\n",
       "SVC            0.680427             0.676638"
      ]
     },
     "execution_count": 46,
     "metadata": {},
     "output_type": "execute_result"
    }
   ],
   "source": [
    "# TO DO: ADD YOUR CODE HERE FOR STEPS 3-5\n",
    "# Note: for any random state parameters, you can use random_state = 0\n",
    "# HINT: USING A LOOP TO STORE THE DATA IN YOUR RESULTS DATAFRAME WILL BE MORE EFFICIENT\n",
    "\n",
    "# Step 3: Machine learning model\n",
    "from sklearn.svm import SVC\n",
    "from sklearn.tree import DecisionTreeClassifier\n",
    "from sklearn.model_selection import train_test_split\n",
    "from sklearn.model_selection import cross_validate\n",
    "\n",
    "X_train, X_test, y_train, y_test = train_test_split(X, y, random_state=0)\n",
    "\n",
    "tree = DecisionTreeClassifier(max_depth=3,random_state=0).fit(X_train, y_train)\n",
    "svc = SVC().fit(X_train, y_train)\n",
    "\n",
    "# Step 4: Validate the model\n",
    "models = [tree, svc]\n",
    "\n",
    "cross_val = [cross_validate(model, X_train, y_train, scoring='accuracy', return_train_score=True) for model in models]\n",
    "\n",
    "mean_train = [cross['train_score'].mean() for cross in cross_val]\n",
    "mean_val = [cross['test_score'].mean() for cross in cross_val]\n",
    "\n",
    "# Step 5.1: Compare models\n",
    "results = pd.DataFrame(columns=[\"Training accuracy\", \"Validation accuracy\"], index=['Tree', 'SVC'])\n",
    "results[\"Training accuracy\"] = mean_train\n",
    "results['Validation accuracy'] = mean_val\n",
    "results"
   ]
  },
  {
   "cell_type": "markdown",
   "id": "f2e17878",
   "metadata": {},
   "source": [
    "#### Step 5.2: Visualize Classification Errors\n",
    "Which method gave the highest accuracy? Use this method to print the confusion matrix and classification report:"
   ]
  },
  {
   "cell_type": "code",
   "execution_count": 47,
   "id": "44b091a4",
   "metadata": {},
   "outputs": [],
   "source": [
    "# TO DO: Implement best model\n",
    "# decision tree classification produced the best results so the tree model will be used in the next steps"
   ]
  },
  {
   "cell_type": "code",
   "execution_count": 48,
   "id": "09d21b59",
   "metadata": {},
   "outputs": [
    {
     "data": {
      "text/plain": [
       "Text(72.72222222222221, 0.5, 'true value')"
      ]
     },
     "execution_count": 48,
     "metadata": {},
     "output_type": "execute_result"
    },
    {
     "data": {
      "image/png": "[encoded data removed]",
      "text/plain": [
       "<Figure size 800x550 with 2 Axes>"
      ]
     },
     "metadata": {},
     "output_type": "display_data"
    }
   ],
   "source": [
    "# TO DO: Print confusion matrix using a heatmap\n",
    "from sklearn.metrics import confusion_matrix\n",
    "y_wine_pred = tree.predict(X_test)\n",
    "matrix = confusion_matrix(y_test, y_wine_pred)\n",
    "\n",
    "sns.heatmap(matrix, annot=True)\n",
    "plt.xlabel('predicted value')\n",
    "plt.ylabel('true value')"
   ]
  },
  {
   "cell_type": "code",
   "execution_count": 49,
   "id": "5ef95947",
   "metadata": {},
   "outputs": [
    {
     "name": "stdout",
     "output_type": "stream",
     "text": [
      "              precision    recall  f1-score   support\n",
      "\n",
      "           1       1.00      0.88      0.93        16\n",
      "           2       0.91      0.95      0.93        21\n",
      "           3       0.89      1.00      0.94         8\n",
      "\n",
      "    accuracy                           0.93        45\n",
      "   macro avg       0.93      0.94      0.93        45\n",
      "weighted avg       0.94      0.93      0.93        45\n",
      "\n"
     ]
    }
   ],
   "source": [
    "# TO DO: Print classification report\n",
    "from sklearn.metrics import classification_report\n",
    "\n",
    "report = classification_report(y_test, y_wine_pred)\n",
    "\n",
    "print(report)"
   ]
  },
  {
   "cell_type": "markdown",
   "id": "bf319621",
   "metadata": {},
   "source": [
    "### Questions (6 marks)\n",
    "1. How do the training and validation accuracy change depending on the method used? Explain with values.\n",
    "1. What are two reasons why the support vector machines model did not work as well as the tree-based model?\n",
    "1. How many samples were incorrectly classified in step 5.2? \n",
    "1. In this case, is maximizing precision or recall more important? Why?\n",
    "\n",
    "Question 1: \n",
    "\n",
    "The accuracy scores for training and validation from the decision tree model are very close to zero with values of 0.99 and 0.89 respectively. These results indicate that the decision tree model is fitting relatively well, although with the validation score being so close to 1 its possible the model is over fitting the data slightly. The SVC accuracy scores for training and validation were 0.68 and 0.68 respectively. These results are relatively low and close together which indicates that this model is underfitting the data. The accuracy values for the decision tree model were significantly higher than that of the SVC model. \n",
    "\n",
    "Question 2:\n",
    "\n",
    "SVM models require careful preprocessing of the data set and tuning of the parameters. Neither of these steps were done in part two which might be a cause of the low performance of the SVC model. Also, SVC models are used for data that is not linearly separable, if this data set is linearly separable that could also explain the poor performance. \n",
    "\n",
    "Question 3:\n",
    "\n",
    "Three samples were incorrectly classified. One was classified as class 2 but was actually class 1 and two were classified as class 1 but were actually class 0. \n",
    "\n",
    "Question 4: \n",
    "\n",
    "Precision = (True Positive )/(True Positive+False Positive) \n",
    "Precision determines the ratio of how many of the positive predictions turned out to actually be positive. Optimizing the precision will minimize false positives. \n",
    "\n",
    "Recall = (True Positive)/(True Positive+False negative) \n",
    "Recall determines the ratio of how many of the actual positives were predicted correctly. Optimizing the recall will minimize false negatives. \n",
    "In this scenario we are building a model to help people classify different types of wine, we will want as many of our class predictions that are made to turn out to actually be that class as possible. To do this we would optimize precision.  \n"
   ]
  },
  {
   "cell_type": "markdown",
   "id": "664ff8ae",
   "metadata": {},
   "source": [
    "### Process Description (4 marks)\n",
    "Please describe the process you used to create your code. Cite any websites or generative AI tools used. You can use the following questions as guidance:\n",
    "1. Where did you source your code?\n",
    "1. In what order did you complete the steps?\n",
    "1. If you used generative AI, what prompts did you use? Did you need to modify the code at all? Why or why not?\n",
    "1. Did you have any challenges? If yes, what were they? If not, what helped you to be successful?\n",
    "\n",
    "I used pretty much the same process for the second part as the first part. I used google and Chat GPT in the same ways. I had to go back and read about SVC to understand how to interpret the results of the model because I forgot the details of how those models work. "
   ]
  },
  {
   "cell_type": "markdown",
   "id": "d0e837da",
   "metadata": {},
   "source": [
    "*DESCRIBE YOUR PROCESS HERE*"
   ]
  },
  {
   "cell_type": "markdown",
   "id": "4cd7358d",
   "metadata": {},
   "source": [
    "## Part 3: Observations/Interpretation (3 marks)\n",
    "\n",
    "Describe any pattern you see in the results. Relate your findings to what we discussed during lectures. Include data to justify your findings.\n",
    "\n",
    "\n",
    "Part 1: \n",
    "\n",
    "It was interesting to see how the three tree models performed on the same data set. You could really see how the two ensemble models were able to increase the complexity. The decision tree model had accuracy scores of 0.83 and 0.74 which is a big improvement from the scores the linear model in assignment 2 produced. Despite being significantly better these values still indicate that the model is under fitting. When the random forest model was used the accuracy scores produced were 0.90 and 0.84, these are even better than the decision tree model, however the scores still could be a bit closer to one. For the gradient boosting model accuracy scores were 0.99 and 0.91, these scores are very close to one and indicate that the gradient boosting model is probably the best performing model with the current hyper parameter values. The training accuracy could almost be a bit too high indicating slight over fitting of the data, to find the best model it would be a good idea to adjust the hyper parameters to see if even better scores could be produced. For the decision tree model and the random forest model there are also hyper parameters that could be adjusted to optimize these models for the data set as well. \n",
    "\n",
    "Part 2: \n",
    "\n",
    "The decision tree model seemed to fit the data pretty well with accuracy scores of 0.99 and 0.89. with the training score of 0.99 so close to 1 its possible this model is over fitting the data slightly. To optimize the model, it might be a good idea to go back and adjust the pre-pruning parameters to limit the complexity and see if the scores can be improved at all. The SVC model performed poorly when compared to the decision tree model with scores of 0.68 and 0.68. The scores are extremely close and low indicating that the model is underfitting the data significantly. As discussed in class reprocessing the data and tuning the parameters is very import for SVC models, this could have something to do with the poor performance.  It is also possible that the data set is not well suited for analysis with SVC.  The confusion matrix and the classification report generated for the decision tree model showed overall good results. Precision and recall were relatively high with weighted averages of 0.94 and 0.93 respectively. The model had only 3 incorrect predictions out of 45 test samples .    \n"
   ]
  },
  {
   "cell_type": "markdown",
   "id": "cd97b6ac",
   "metadata": {},
   "source": [
    "## Part 4: Reflection (2 marks)\n",
    "Include a sentence or two about:\n",
    "- what you liked or disliked,\n",
    "- found interesting, confusing, challangeing, motivating\n",
    "while working on this assignment.\n",
    "\n",
    "I found it really interesting comparing the results from the last assignment to the results in this assignment. It really showed how the type of model you pick affects the results. I also liked creating the visual of the confusion matrix, I found that that really made it clear what the model was doing. It was also interesting comparing the different types of no linear models to each other and seeing how different ones perform. I would like to get more experience setting hyper parameters and exploring how that can change results."
   ]
  },
  {
   "cell_type": "markdown",
   "id": "fa21e53b",
   "metadata": {},
   "source": [
    "## Part 5: Bonus Question (3 marks)\n",
    "\n",
    "Repeat Part 2 and compare the support vector machines model used to `LinearSVC(max_iter=5000)`. Does using `LinearSVC` improve the results? Why or why not?\n",
    "\n",
    "Is `LinearSVC` a good fit for this dataset? Why or why not?"
   ]
  },
  {
   "cell_type": "code",
   "execution_count": 50,
   "id": "30fea72e",
   "metadata": {},
   "outputs": [
    {
     "name": "stdout",
     "output_type": "stream",
     "text": [
      "Training Accuracy: 0.9924704637630046\n",
      "Validation Accuracy: 0.9774928774928775\n"
     ]
    },
    {
     "data": {
      "text/plain": [
       "Text(72.72222222222221, 0.5, 'true value')"
      ]
     },
     "execution_count": 50,
     "metadata": {},
     "output_type": "execute_result"
    },
    {
     "data": {
      "image/png": "[encoded data removed]",
      "text/plain": [
       "<Figure size 800x550 with 2 Axes>"
      ]
     },
     "metadata": {},
     "output_type": "display_data"
    }
   ],
   "source": [
    "# TO DO: ADD YOUR CODE HERE\n",
    "from sklearn.svm import LinearSVC\n",
    "from sklearn.model_selection import train_test_split\n",
    "from sklearn.model_selection import cross_validate\n",
    "\n",
    "X_train, X_test, y_train, y_test = train_test_split(X, y, random_state=0)\n",
    "\n",
    "linear_svc = LinearSVC(max_iter=5000, dual=False).fit(X_train, y_train)\n",
    "\n",
    "cross_val = cross_validate(linear_svc, X_train, y_train, scoring='accuracy', return_train_score=True) \n",
    "\n",
    "mean_train = cross_val['train_score'].mean()\n",
    "mean_val = cross_val['test_score'].mean()\n",
    "\n",
    "print(\"Training Accuracy: \" + str(mean_train))\n",
    "print(\"Validation Accuracy: \" + str(mean_val))\n",
    "\n",
    "from sklearn.metrics import confusion_matrix\n",
    "\n",
    "y_wine_pred = linear_svc.predict(X_test)\n",
    "matrix = confusion_matrix(y_test, y_wine_pred)\n",
    "\n",
    "sns.heatmap(matrix, annot=True)\n",
    "plt.xlabel('predicted value')\n",
    "plt.ylabel('true value')\n"
   ]
  },
  {
   "cell_type": "code",
   "execution_count": 51,
   "id": "b7344b04",
   "metadata": {},
   "outputs": [
    {
     "name": "stdout",
     "output_type": "stream",
     "text": [
      "              precision    recall  f1-score   support\n",
      "\n",
      "           1       0.88      0.94      0.91        16\n",
      "           2       0.95      0.86      0.90        21\n",
      "           3       0.89      1.00      0.94         8\n",
      "\n",
      "    accuracy                           0.91        45\n",
      "   macro avg       0.91      0.93      0.92        45\n",
      "weighted avg       0.91      0.91      0.91        45\n",
      "\n"
     ]
    }
   ],
   "source": [
    "from sklearn.metrics import classification_report\n",
    "\n",
    "report = classification_report(y_test, y_wine_pred)\n",
    "\n",
    "print(report)"
   ]
  },
  {
   "cell_type": "markdown",
   "id": "aabc68a4",
   "metadata": {},
   "source": [
    "*ANSWER HERE*"
   ]
  },
  {
   "cell_type": "markdown",
   "id": "5d293e12",
   "metadata": {},
   "source": [
    "The results from the linear SVC model are significantly better than the results in part 2 for the SVC model. Based on the training and validation results there could be some over fitting but it might be possible to resolve that with parameter tuning. These results show that the SVC model was not appropriate for this data set. This indicates that the data is linearly separable."
   ]
  }
 ],
 "metadata": {
  "kernelspec": {
   "display_name": "Python 3 (ipykernel)",
   "language": "python",
   "name": "python3"
  },
  "language_info": {
   "codemirror_mode": {
    "name": "ipython",
    "version": 3
   },
   "file_extension": ".py",
   "mimetype": "text/x-python",
   "name": "python",
   "nbconvert_exporter": "python",
   "pygments_lexer": "ipython3",
   "version": "3.11.5"
  }
 },
 "nbformat": 4,
 "nbformat_minor": 5
}
